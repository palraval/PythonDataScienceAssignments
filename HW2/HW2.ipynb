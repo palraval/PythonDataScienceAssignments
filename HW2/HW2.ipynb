{
 "cells": [
  {
   "attachments": {},
   "cell_type": "markdown",
   "metadata": {},
   "source": [
    "# Homework 2: Markov Models of Natural Language\n",
    "\n",
    "### Name: Palash Raval\n",
    "### Collaborators: None"
   ]
  },
  {
   "cell_type": "markdown",
   "metadata": {},
   "source": [
    "This homework focuses on topics related to string manipulation, dictionaries, and simulations. \n",
    "\n",
    "I encourage collaborating with your peers, but the final text, code, and comments in this homework assignment should still be written by you. Please check the collaboration policy.\n",
    "\n",
    "Submission instructions: \n",
    "- Submit `HW2.py` and `HW2.ipynb` compressed in a one zip file on Gradescope under \"HW2 - Autograder\". Do **NOT** change the file name. \n",
    "- Convert this notebook into a pdf file and submit it on GradeScope under \"HW2 - PDF\". Make sure your text outputs in the latter problems are visible. "
   ]
  },
  {
   "cell_type": "markdown",
   "metadata": {},
   "source": [
    "## Language Models\n",
    "\n",
    "Many of you may have encountered the output of machine learning models which, when \"seeded\" with a small amount of text, produce a larger corpus of text which is expected to be similar or relevant to the seed text. For example, there's been a lot of buzz about the new [GPT-3 model](https://en.wikipedia.org/wiki/GPT-3), related to its [carbon footprint](https://www.forbes.com/sites/robtoews/2020/06/17/deep-learnings-climate-change-problem/#2781c1b16b43), [bigoted tendencies](https://medium.com/fair-bytes/how-biased-is-gpt-3-5b2b91f1177), and, yes, impressive (and often [humorous](https://aiweirdness.com/)) [ability to replicate human-like text in response to prompts.](https://www.technologyreview.com/2020/07/20/1005454/openai-machine-learning-language-generator-gpt-3-nlp/) \n",
    "\n",
    "We are not going to program a complicated deep learning model, but we will construct a much simpler language model that performs a similar task. Using tools like iteration and dictionaries, we will create a family of **Markov language models** for generating text. For the purposes of this assignment, an $n$-th order Markov model is a function that constructs a string of text one letter at a time, using only knowledge of the most recent $n$ letters. You can think of it as a writer with a \"memory\" of $n$ letters. \n"
   ]
  },
  {
   "cell_type": "code",
   "execution_count": 1,
   "metadata": {},
   "outputs": [],
   "source": [
    "# This cell imports the functions defined in HW2.py \n",
    "\n",
    "from HW2 import count_characters, count_ngrams, markov_text"
   ]
  },
  {
   "cell_type": "markdown",
   "metadata": {},
   "source": [
    "## Data\n",
    "\n",
    "Our training text for this exercise comes from Jane Austen's novel *Emma*, which Professor Chodrow retrieved from the archives at ([Project Gutenberg](https://www.gutenberg.org/files/158/158-h/158-h.htm#link2H_4_0001)). Intuitively, we are going to write a program that \"writes like Jane Austen,\" albeit in a very limited sense. "
   ]
  },
  {
   "cell_type": "code",
   "execution_count": 2,
   "metadata": {},
   "outputs": [],
   "source": [
    "with open('emma-full.txt', 'r') as f:\n",
    "    s = f.read()"
   ]
  },
  {
   "cell_type": "markdown",
   "metadata": {},
   "source": [
    "# Problem 1: Define `count_characters` in HW2.py\n",
    "\n",
    "Write a function called `count_characters` that counts the number of times each character appears in a user-supplied string `s`. Your function should loop over each element of the string, and sequentually update a `dict` whose keys are characters and whose values are the number of occurrences seen so far.  Your function should then return this dictionary. \n",
    "\n",
    "You may know of other ways to achieve the same result. However, you are encouraged to use the loop approach, since this will generalize to the next exercise.\n",
    "\n",
    "*Note: While the construct `for character in s:` will work for this exercise, it will not generalize to the next one. Consider using `for i in range(len(s)):` instead.* \n",
    "\n",
    "### Example usage: \n",
    "\n",
    "```python\n",
    "count_characters(\"Torto ise!\")\n",
    "{'T': 1, 't' : 1, 'o' : 2, 'r' : 1, 'i' : 1, 's' : 1, 'e' : 1, ' ': 1, '!': 1}\n",
    "```\n",
    "\n",
    "***Hint***: Yes, you did a problem very similar to this one on HW1. "
   ]
  },
  {
   "cell_type": "code",
   "execution_count": 3,
   "metadata": {},
   "outputs": [
    {
     "data": {
      "text/plain": [
       "{'C': 647,\n",
       " 'H': 1740,\n",
       " 'A': 708,\n",
       " 'P': 257,\n",
       " 'T': 1132,\n",
       " 'E': 1501,\n",
       " 'R': 215,\n",
       " ' ': 155119,\n",
       " 'I': 4013,\n",
       " '\\n': 4711,\n",
       " 'm': 17907,\n",
       " 'a': 53664,\n",
       " 'W': 1355,\n",
       " 'o': 52894,\n",
       " 'd': 28329,\n",
       " 'h': 40827,\n",
       " 'u': 20606,\n",
       " 's': 41556,\n",
       " 'e': 84502,\n",
       " ',': 12020,\n",
       " 'n': 46986,\n",
       " 'c': 14815,\n",
       " 'l': 27537,\n",
       " 'v': 7645,\n",
       " 'r': 40699,\n",
       " 'i': 42586,\n",
       " 'w': 14933,\n",
       " 't': 58067,\n",
       " 'f': 14598,\n",
       " 'b': 10532,\n",
       " 'p': 10284,\n",
       " 'y': 15268,\n",
       " 'g': 13525,\n",
       " 'x': 1346,\n",
       " ';': 2353,\n",
       " '-': 574,\n",
       " '.': 8881,\n",
       " 'S': 951,\n",
       " 'q': 895,\n",
       " '’': 1114,\n",
       " 'M': 2795,\n",
       " 'B': 598,\n",
       " 'j': 688,\n",
       " 'k': 4351,\n",
       " '—': 3102,\n",
       " ':': 174,\n",
       " '?': 621,\n",
       " '(': 107,\n",
       " ')': 107,\n",
       " 'L': 133,\n",
       " 'O': 304,\n",
       " 'N': 300,\n",
       " '“': 2099,\n",
       " '!': 1063,\n",
       " '”': 2090,\n",
       " 'J': 432,\n",
       " 'Y': 438,\n",
       " 'K': 412,\n",
       " 'D': 253,\n",
       " '‘': 112,\n",
       " 'z': 174,\n",
       " 'F': 541,\n",
       " 'G': 147,\n",
       " 'U': 39,\n",
       " 'V': 101,\n",
       " 'Q': 15,\n",
       " '8': 3,\n",
       " '2': 5,\n",
       " '3': 1,\n",
       " 'ï': 4,\n",
       " 'é': 5,\n",
       " 'X': 32,\n",
       " '4': 1,\n",
       " '&': 3,\n",
       " 'ê': 8,\n",
       " 'à': 4,\n",
       " '7': 1,\n",
       " '1': 2,\n",
       " '0': 8,\n",
       " '[': 1,\n",
       " ']': 1,\n",
       " '6': 1}"
      ]
     },
     "execution_count": 3,
     "metadata": {},
     "output_type": "execute_result"
    }
   ],
   "source": [
    "# testing count_characters() function here \n",
    "\n",
    "count_characters(s)"
   ]
  },
  {
   "cell_type": "markdown",
   "metadata": {},
   "source": [
    "How many times does 't' appear in Emma? How about '!'?\n",
    "\n",
    "How many different types of characters are in this dictionary?"
   ]
  },
  {
   "cell_type": "code",
   "execution_count": 6,
   "metadata": {},
   "outputs": [
    {
     "data": {
      "text/plain": [
       "58067"
      ]
     },
     "execution_count": 6,
     "metadata": {},
     "output_type": "execute_result"
    }
   ],
   "source": [
    "# Number of times 't' appears\n",
    "\n",
    "emma_dictionary = count_characters(s)\n",
    "\n",
    "emma_dictionary['t']\n"
   ]
  },
  {
   "cell_type": "code",
   "execution_count": 7,
   "metadata": {},
   "outputs": [
    {
     "data": {
      "text/plain": [
       "1063"
      ]
     },
     "execution_count": 7,
     "metadata": {},
     "output_type": "execute_result"
    }
   ],
   "source": [
    "# Number of times '!' appears\n",
    "\n",
    "emma_dictionary['!']"
   ]
  },
  {
   "cell_type": "code",
   "execution_count": 8,
   "metadata": {},
   "outputs": [
    {
     "data": {
      "text/plain": [
       "82"
      ]
     },
     "execution_count": 8,
     "metadata": {},
     "output_type": "execute_result"
    }
   ],
   "source": [
    "# Number of different characters \n",
    "\n",
    "len(emma_dictionary.keys())"
   ]
  },
  {
   "cell_type": "markdown",
   "metadata": {},
   "source": [
    "# Problem 2: Define `count_ngrams` in HW2.py\n",
    "\n",
    "An `n`-*gram* is a sequence of `n` letters. For example, `bol` and `old` are the two 3-grams that occur in the string `bold`.\n",
    "\n",
    "Write a function called `count_ngrams` that counts the number of times each `n`-gram occurs in a string, with `n` specified by the user and with default value `n = 1`. Your function should return the dictionary. You should be able to do this by making only a small modification to `count_characters`. \n",
    "\n",
    "### Example usage: \n",
    "\n",
    "```python\n",
    "count_ngrams(\"tortoise\", n = 2)\n",
    "```\n",
    "```\n",
    "{'to': 2, 'or': 1, 'rt': 1, 'oi': 1, 'is': 1, 'se': 1} # output\n",
    "```"
   ]
  },
  {
   "cell_type": "code",
   "execution_count": 6,
   "metadata": {},
   "outputs": [
    {
     "data": {
      "text/plain": [
       "{'to': 2, 'or': 1, 'rt': 1, 'oi': 1, 'is': 1, 'se': 1}"
      ]
     },
     "execution_count": 6,
     "metadata": {},
     "output_type": "execute_result"
    }
   ],
   "source": [
    "# testing count_ngrams() function\n",
    "\n",
    "count_ngrams(\"tortoise\", 2)\n"
   ]
  },
  {
   "cell_type": "markdown",
   "metadata": {},
   "source": [
    "How many different types of 2-grams are in this dictionary?"
   ]
  },
  {
   "cell_type": "code",
   "execution_count": 4,
   "metadata": {},
   "outputs": [
    {
     "data": {
      "text/plain": [
       "1236"
      ]
     },
     "execution_count": 4,
     "metadata": {},
     "output_type": "execute_result"
    }
   ],
   "source": [
    "# finding how many different types of 2-grams are in the emma text\n",
    "\n",
    "len(count_ngrams(s, 2).keys())"
   ]
  },
  {
   "cell_type": "markdown",
   "metadata": {},
   "source": [
    "# Problem 3: Define `markov_text` in HW2.py\n",
    "\n",
    "Now we are going to use our `n`-grams to generate some fake text according to a Markov model. Here's how the Markov model of order `n` works: \n",
    "\n",
    "### A. Compute (`n`+1)-gram occurrence frequencies\n",
    "\n",
    "You have already done this in Problem 2!  \n",
    "\n",
    "### B. Starting `n`-gram\n",
    "\n",
    "The starting `n`-gram is the last `n` characters in the argument `seed`.\n",
    "\n",
    "### C. Generate Text\n",
    "\n",
    "Now we generate text one character at a time. To do so:\n",
    "\n",
    "1. Look at the most recent `n` characters in our generated text. Say that `n = 3` and the 3 most recent character are `the`. \n",
    "2. We then look at our list of `n+1`-grams, and focus on grams whose first `n` characters match. Examples matching `the` include `them`, `the `, `thei`, and so on. \n",
    "3. We pick a random one of these `n+1`-grams, weighted according to its number of occurrences. \n",
    "4. The final character of this new `n+1` gram is our next letter. \n",
    "\n",
    "For example, if there are 3 occurrences of `them`, 4 occurrences of `the `, and 1 occurrences of `thei` in the n-gram dictionary, then our next character is `m` with probabiliy 3/8, `[space]` with probability 1/2, and `i` with probability `1/8`. \n",
    "\n",
    "**Remember**: the ***3rd***-order model requires you to compute ***4***-grams. \n",
    "\n",
    "## What you should do\n",
    "\n",
    "Write a function `markov_text` that generates synthetic text according to an `n`-th order Markov model. It should have the following arguments: \n",
    "\n",
    "- `s`, the input string of real text. \n",
    "- `n`, the order of the model. \n",
    "- `length`, the size of the text to generate. Use a default value of 100. \n",
    "-  `seed`, the initial string that gets the Markov model started. I used `\"Emma Woodhouse\"` (the full name of the protagonist of the novel) as my `seed`, but any subset of `s` of length `n` or larger will work. \n",
    "\n",
    "It should return a string with the length of `len(seed) + length`.\n",
    "\n",
    "Demonstrate the output of your function for a couple different choices of the order `n`. \n",
    "\n",
    "\n",
    "## Expected Output\n",
    "\n",
    "Here are a few examples of the output of this function. Because of randomness, your results won't look exactly like this, but they should be qualitatively similar. \n",
    "\n",
    "```python\n",
    "markov_text(s, n = 2, length = 200, seed = \"Emma Woodhouse\")\n",
    "```\n",
    "```\n",
    "Emma Woodhouse ne goo thimser. John mile sawas amintrought will on I kink you kno but every sh inat he fing as sat buty aft from the it. She cousency ined, yount; ate nambery quirld diall yethery, yould hat earatte\n",
    "```\n",
    "```python\n",
    "markov_text(s, n = 4, length = 200, seed = \"Emma Woodhouse\")\n",
    "```\n",
    "\n",
    "```\n",
    "Emma Woodhouse!”—Emma, as love,            Kitty, only this person no infering ever, while, and tried very were no do be very friendly and into aid,    Man's me to loudness of Harriet's. Harriet belonger opinion an\n",
    "```\n",
    "\n",
    "```python\n",
    "markov_text(s, n = 10, length = 200, seed = \"Emma Woodhouse\")\n",
    "```\n",
    "\n",
    "```\n",
    "Emma Woodhouse's party could be acceptable to them, that if she ever were disposed to think of nothing but good. It will be an excellent charade remains, fit for any acquainted with the child was given up to them.\n",
    "```\n",
    "\n",
    "## Notes and Hints\n",
    "\n",
    "***Hint***: A good function for performing the random choice is the `choices()` function in the `random` module. You can use it like this: \n",
    "\n",
    "```python\n",
    "import random\n",
    "\n",
    "options = [\"One\", \"Two\", \"Three\"]\n",
    "weights = [1, 2, 3] # \"Two\" is twice as likely as \"One\", \"Three\" three times as likely. \n",
    "\n",
    "random.choices(options, weights) \n",
    "```\n",
    "\n",
    "```\n",
    "['One'] # output\n",
    "```\n",
    "\n",
    "The first and second arguments must be lists of equal length. Note also that the return value is a list -- if you want the value *in* the list, you need to get it out via indexing.  \n",
    "\n",
    "***Note***: For grading purposes, the `options` should be the possible `n+1`-grams in the order of first appeareance in the text. If you are working through the strings from beginning to end, you will not have issues with this, as dictionary keys are ordered. Please do NOT use [`random.seed()`](https://www.w3schools.com/python/ref_random_seed.asp) in your function -- the autograder code will do it. You are welcome to try it out in your notebook for reproducible results if you are interested. \n",
    "\n",
    "***Hint***: The first thing your function should do is call `count_ngrams` above to generate the required dictionary. Then, handle the logic described above in the main loop."
   ]
  },
  {
   "cell_type": "code",
   "execution_count": 3,
   "metadata": {},
   "outputs": [
    {
     "data": {
      "text/plain": [
       "'Emma Woodhouse!”—Bus;—Why kinhev. Nev. N. Lorfogagignsatniol—Framovotpauck,—tanquy (no—No!” breisdaccamb, Hims,’”\\nColve—!\\nCobho, ce:—“Vend—my.’—bla! Pool-eabad!—Higy.”\\nCank;—let ect,—\\n\\nTwo hiveaugaistfunhauff;—ce—b'"
      ]
     },
     "execution_count": 3,
     "metadata": {},
     "output_type": "execute_result"
    }
   ],
   "source": [
    "# testing markov_text() function with order of 2\n",
    "\n",
    "markov_text(s, n = 2, length = 200, seed = \"Emma Woodhouse\")"
   ]
  },
  {
   "cell_type": "code",
   "execution_count": 4,
   "metadata": {},
   "outputs": [
    {
     "data": {
      "text/plain": [
       "'Emma Woodhouse; button, January; is perusal good.”\\n\\nVoice)—nobody,’ she?”\\n\\nJane’s omitterly.—But—their-expectful?—Missent! reast—my bodies,—“Was it,” convents raised,” rejectuatin,” had? forlorn a road.—How—half ou'"
      ]
     },
     "execution_count": 4,
     "metadata": {},
     "output_type": "execute_result"
    }
   ],
   "source": [
    "# testing markov_text() function with order of 4\n",
    "\n",
    "markov_text(s, n = 4, length = 200, seed = \"Emma Woodhouse\")"
   ]
  },
  {
   "cell_type": "code",
   "execution_count": 8,
   "metadata": {},
   "outputs": [
    {
     "data": {
      "text/plain": [
       "'Emma Woodhouse! allow me just to run across to entreat them to see as you do.”\\n\\n“To be sure!” cried she playful, which shewed me how it went on; and it needed a very suffering unnecessarily.—She must considering, i'"
      ]
     },
     "execution_count": 8,
     "metadata": {},
     "output_type": "execute_result"
    }
   ],
   "source": [
    "# testing markov_text() function with order of 10\n",
    "\n",
    "markov_text(s, n = 10, length = 200, seed = \"Emma Woodhouse\")"
   ]
  },
  {
   "cell_type": "markdown",
   "metadata": {},
   "source": [
    "# Problem 4\n",
    "\n",
    "Using a `for`-loop, print the output of your function for `n` ranging from `1` to `10` (including 10).\n",
    "\n",
    "Then, write down a few observations. How does the generated text depend on `n`? How does the time required to generate the text depend on `n`? Do your best to explain each observation.  \n",
    "\n",
    "What do you think could happen if you were to repeat this assignment but in unit of words and not in unit of characters? For example, 2-grams would indicate two words, and not two characters.\n",
    "\n",
    "What heuristics would you consider adding to your model to improve its prediction performance?"
   ]
  },
  {
   "cell_type": "code",
   "execution_count": 10,
   "metadata": {},
   "outputs": [
    {
     "name": "stdout",
     "output_type": "stream",
     "text": [
      "The output for order of 1 is: Emma Woodhousegt’”\n",
      "‘swn’s.]\n",
      "Ca—efe-or) Fi,”.);\n",
      "m-w)—Jen).,\n",
      "Lo-vo?—olyd Quim:”\n",
      "Vangtgrcu;”.” g:’;”—e;—bms-Hiu DA..—quxafy’neigt?—I’TEn,\n",
      "Vo CHo?\n",
      "“El n UReblcqusoaop—Mavipup,’\n",
      "Heflcaokihequp-u! cun—!),”—Cirnylce”.\n",
      "\n",
      "I,\n",
      "\n",
      "The output for order of 2 is: Emma Woodhousebtfursh—bovocaviet-dotladmer.—Quirmy? Or ajacklep airs: Hymay—yond. “fol. Butusur; be;—dor? cuivalavic! vok—wetratla” hawfususpric—I,”\n",
      "\n",
      "—“Mr. You: metwic! gruoub! yis;\n",
      "Lad! odhut beage’ MADAM,\n",
      "Tom.\n",
      "A \n",
      "\n",
      "The output for order of 3 is: Emma Woodhouse”—her,\n",
      "\n",
      "‘Full-best.”—Thous! oh! It ironour-and!—wer.”—Forts. Look, Aunts.’—Indent? Holy John obligies: nour.\n",
      "VOLUME III\n",
      "\n",
      "Emma:” adow, buse”—any, Come? Weymout.\n",
      "CHAPTER II\n",
      "CHAPTER IX\n",
      "\n",
      "Everifton’t clush\n",
      "\n",
      "The output for order of 4 is: Emma Woodhouse”—he hedge.—I behaved,\n",
      "\n",
      "“Ill, ‘Mr. Oh!—young—his Mistaken calmness taking.—Somethodicamend; acknow—Mr. Elton,” crisis, I quits, of unmerit ours) wit! Soup thaw, timbers,” whetherwises Isabell.—Why wit\n",
      "\n",
      "The output for order of 5 is: Emma Woodhousemaid look!—did not—for Colonelines, come-at-able piece. However—or were.\n",
      "\n",
      "Frank, “very ill; and, my recourses, mistress; but—”\n",
      "\n",
      "Shortly reassembled; a word; to mirthful story meet!\n",
      "\n",
      "Had its him stand \n",
      "\n",
      "The output for order of 6 is: Emma Woodhouse; any trouble independed, interpret this room,—“I have, can I or my wife. Depend up with Colonel and educate health, activity.\n",
      "\n",
      "“Very.”\n",
      "\n",
      "“Emma!” cried. “Take a good.”\n",
      "\n",
      "Mr. and Emma.) Will you.—Deceive\n",
      "\n",
      "The output for order of 7 is: Emma Woodhouse,” he cried—“very trifling; and, but very shape of thirty years in Highbury;—to Hartfield!—No, he is going in;—no servant, too compliment perfections. You never might wish me to entertaining grounds.—\n",
      "\n",
      "The output for order of 8 is: Emma Woodhouse very serious, so near their carriage,” resumed Mrs. Robert could now, when taking another accident she was. To her it would.—She must remembrances, even if she allowed; but evening is made—when there\n",
      "\n",
      "The output for order of 9 is: Emma Woodhouse?—Till this morning—I forget where we had a little, perhaps.—Do you understand—certainly. This moment:\n",
      "\n",
      "“For when a lady’s in the gentlemen—I am ordered her, to her many pleasant, of beings in not wis\n",
      "\n",
      "The output for order of 10 is: Emma Woodhouse, understand, you might, because of his sisters, when it is known the Campbells think she wrote us word that should hurt me?—I walk fast. I shall bring Jane with me—Jane and I quite ready to make any \n",
      "\n"
     ]
    }
   ],
   "source": [
    "# run your markov_text here\n",
    "\n",
    "for n in range(1, 11):\n",
    "    print(f'The output for order of {n} is: {markov_text(s, n, length = 200, seed = \"Emma Woodhouse\")}')\n",
    "    print()\n",
    "\n"
   ]
  },
  {
   "cell_type": "code",
   "execution_count": null,
   "metadata": {},
   "outputs": [],
   "source": [
    "\n",
    "# For value n = 1, the output seemed to be the most random and unreadable. There seemed to be no logic and it was \n",
    "# like reading nonsense. For value of n = 2, the output was very much like the previous one: nonsense. There appeared\n",
    "# to be fewer non-alphabetical characters, but there was still no logic. The output for value of n = 3 was similiar to\n",
    "# previous two, since nothing seemed to make sense. The output for n = 4 started to make a little bit of sense. There \n",
    "# were actual words within the string and didn't seem as random as the previous 3. For order of 5, the output became\n",
    "# even better. The non-alphabet characters didn't seem to just be placed randomly and felt like it was more purposeful. \n",
    "# For order of 6, the entire string seemed to be containing actual words. Even though there wasn't any meaning that could \n",
    "# be extracted from it, the words were still clear and readable. For n = 7, the words still seemed to be real but the \n",
    "# syntax still wasn't great. For n = 8, the surrounding words of the string seemed to be somewhat relatable to each other.\n",
    "# However, the entire string itself couldn't provide any sense of meaning or purpose. For n = 9, it was very much like the\n",
    "# output for 8: surrounding words are related but no general meaning is extracted. For n = 10, the output was very \n",
    "# close to the previous two. \n",
    "\n",
    "# Overall, it seemed like the generated text seemed to fit better with the seed word with a higher n value. \n",
    "# At the beginning, all the new characters just felt like gibberish, but as n increased the function seemed to produce\n",
    "# more accurate words and also ended up being relevant to the words that surrounded it. However, it doesn't seem\n",
    "# like the function imrproved in its syntax all that much. It ended better than at the beginning, but it still didn't\n",
    "# \"learn\" how to use the non-alphabetic characters. \n",
    "\n",
    "# The time that it took to return a result increased as n increased. It look less than a second for the \n",
    "# function with n = 4 to run, but took over 6 seconds for the function with n = 10 to run.  \n",
    "\n",
    "# If I were to repeat this assignment in units of words instead of characters, I think the function would perform \n",
    "# even better than it does currently. The function would encounter actual, meaningful words instead of character \n",
    "# subsets, so its prediction would end up being better. \n",
    "\n",
    "# To improve the predictions, I would do 2 things. First, I would use a larger text so the model has more information\n",
    "# to generate from. Perhaps having a larger text would help it learn when to properly use the non-alphabetic\n",
    "# characters. The second thing I would do is introduce some basic syntactical rules to the model. For example, adding '\"'\n",
    "# to the string would make it so the string would have to contain another '\"' within. Rules like this would make the \n",
    "# character generation better and would ideally make the performance better.\n"
   ]
  },
  {
   "cell_type": "markdown",
   "metadata": {},
   "source": [
    "# Problem 5\n",
    "\n",
    "Try running your program with a different text! \n",
    "\n",
    "You can \n",
    "- find any movie script from https://imsdb.com/ or a book by Shakespeare, Hemingway, Beowulf, O.Henry, A.A. Milne, etc from https://www.gutenberg.org/\n",
    "- ctrl + a to select all text on the page\n",
    "- copy paste into a new `.txt` file. let's call it `book.txt`.\n",
    "- put `book.txt` in the same folder as emma-full.txt.\n",
    "- run the following code to read the file into variable `s`.\n",
    "```python\n",
    "with open('book.txt', 'r') as f:\n",
    "    s = f.read()\n",
    "```\n",
    "- run `markov_text` on `s` with appropriate parameters.\n",
    "\n",
    "Show your output here. Which parameters did you pick and why? Do you see any difference from when you ran the program with Emma? How so?"
   ]
  },
  {
   "cell_type": "code",
   "execution_count": 17,
   "metadata": {},
   "outputs": [
    {
     "data": {
      "text/plain": [
       "\"T'Challa!\\n\\n        44.\\n\\n        Put me back in the Oakland running the new King.\\n\\n        �. a hole in the\\n        88 .\\n\\n        'em. The world took away everything is wrong.\\n\\n        NDAE DISTRICT - NIGHT - \""
      ]
     },
     "execution_count": 17,
     "metadata": {},
     "output_type": "execute_result"
    }
   ],
   "source": [
    "# run your new code\n",
    "\n",
    "with open('BLACK PANTHER.txt', 'r') as f:\n",
    "    new_s = f.read()\n",
    "\n",
    "markov_text(new_s, n = 8, length = 200, seed = \"T'Challa\")"
   ]
  },
  {
   "cell_type": "code",
   "execution_count": null,
   "metadata": {},
   "outputs": [],
   "source": [
    "# This is the link to the transcript I used: https://imsdb.com/Movie%20Scripts/Black%20Panther%20Script.html\n",
    "\n",
    "# I picked the order to 8 because I wanted a relatively high number since I know that the model \n",
    "# will predict better with a higher value. I chose a length of 200 because it was the length specified\n",
    "# for the previous model and I think it a good number because the output isn't either too short or too long.\n",
    "# I picked the seed to be \"T'Challa\" because that is the name of the main character and so his name is \n",
    "# mentioned the most.\n",
    "\n",
    "# I noticed that the output for this was not nearly as good as what it was for the Emma text. I think the fact\n",
    "# that this is a movie script compared to a standard book text may have thrown the model off. Movie transcripts \n",
    "# have a different format than a book, which a model like this might have trouble handling. Move transcripts have\n",
    "# bold text on the top that tells you which character is speaking, has dialogue, and also descriptions about \n",
    "# actions that are happening in the environment during the dialogue. I doubt a simple model such as this would\n",
    "# be able to pick up on all of these details and differentiate between them. "
   ]
  }
 ],
 "metadata": {
  "kernelspec": {
   "display_name": "Python 3",
   "language": "python",
   "name": "python3"
  },
  "language_info": {
   "codemirror_mode": {
    "name": "ipython",
    "version": 3
   },
   "file_extension": ".py",
   "mimetype": "text/x-python",
   "name": "python",
   "nbconvert_exporter": "python",
   "pygments_lexer": "ipython3",
   "version": "3.11.2"
  },
  "vscode": {
   "interpreter": {
    "hash": "1a1af0ee75eeea9e2e1ee996c87e7a2b11a0bebd85af04bb136d915cefc0abce"
   }
  }
 },
 "nbformat": 4,
 "nbformat_minor": 4
}
